{
 "cells": [
  {
   "cell_type": "markdown",
   "id": "c7982f14",
   "metadata": {},
   "source": [
    "# Initial declearations for all files"
   ]
  },
  {
   "cell_type": "code",
   "execution_count": 2,
   "id": "c7ebeac5",
   "metadata": {},
   "outputs": [],
   "source": [
    "import numpy as np\n",
    "import pandas as pd\n",
    "import matplotlib_inline as plot\n"
   ]
  },
  {
   "cell_type": "markdown",
   "id": "1068ba67",
   "metadata": {},
   "source": [
    "# Reading files from data files of aqua water reserverired "
   ]
  },
  {
   "cell_type": "code",
   "execution_count": 22,
   "id": "28f9a98e",
   "metadata": {},
   "outputs": [
    {
     "name": "stdout",
     "output_type": "stream",
     "text": [
      "[WinError 2] The system cannot find the file specified: 'acea-water-prediction-data'\n",
      "C:\\Users\\Safeer\\My Drive\\Git_Project\\Water_prediction\\Acea-Water-Prediction\\acea-water-prediction-data\n"
     ]
    }
   ],
   "source": [
    "cd acea-water-prediction-data"
   ]
  },
  {
   "cell_type": "code",
   "execution_count": 21,
   "id": "c06678ab",
   "metadata": {},
   "outputs": [],
   "source": [
    "aq_auser_pd       = pd.read_csv('Aquifer_Auser.csv')\n",
    "aq_Ddganella_pd   = pd.read_csv('Aquifer_Doganella.csv')\n",
    "aq_luco_pd        = pd.read_csv('Aquifer_Luco.csv')\n",
    "aq_petrignano_pd  = pd.read_csv('Aquifer_Petrignano.csv')\n",
    "lake_bilancino_pd = pd.read_csv('Lake_Bilancino.csv')\n",
    "riv_arno_pd       = pd.read_csv('River_Arno.csv')\n",
    "spr_amiata_pd     = pd.read_csv('Water_Spring_Amiata.csv')\n",
    "spr_lupa_pd       = pd.read_csv('Water_Spring_Lupa.csv')\n",
    "spr_madonna_pd    = pd.read_csv('Water_Spring_Madonna_di_Canneto.csv')"
   ]
  },
  {
   "cell_type": "markdown",
   "id": "0ee1e7d1",
   "metadata": {},
   "source": [
    "# Data cleaning process"
   ]
  }
 ],
 "metadata": {
  "kernelspec": {
   "display_name": "Python 3 (ipykernel)",
   "language": "python",
   "name": "python3"
  },
  "language_info": {
   "codemirror_mode": {
    "name": "ipython",
    "version": 3
   },
   "file_extension": ".py",
   "mimetype": "text/x-python",
   "name": "python",
   "nbconvert_exporter": "python",
   "pygments_lexer": "ipython3",
   "version": "3.9.15"
  }
 },
 "nbformat": 4,
 "nbformat_minor": 5
}
