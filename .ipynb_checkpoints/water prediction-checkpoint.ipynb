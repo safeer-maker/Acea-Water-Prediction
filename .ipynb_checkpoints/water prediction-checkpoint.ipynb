{
 "cells": [
  {
   "cell_type": "markdown",
   "id": "5f67581b",
   "metadata": {},
   "source": [
    "# Initial declearations for all files"
   ]
  },
  {
   "cell_type": "code",
   "execution_count": 2,
   "id": "732bd94d",
   "metadata": {},
   "outputs": [],
   "source": [
    "import numpy as np\n",
    "import pandas as pd\n",
    "import matplotlib_inline as plot\n"
   ]
  },
  {
   "cell_type": "markdown",
   "id": "89a7342c",
   "metadata": {},
   "source": [
    "# Reading files from data files of aqua water reserverired "
   ]
  },
  {
   "cell_type": "code",
   "execution_count": null,
   "id": "ab25d081",
   "metadata": {},
   "outputs": [],
   "source": []
  }
 ],
 "metadata": {
  "kernelspec": {
   "display_name": "Python 3 (ipykernel)",
   "language": "python",
   "name": "python3"
  },
  "language_info": {
   "codemirror_mode": {
    "name": "ipython",
    "version": 3
   },
   "file_extension": ".py",
   "mimetype": "text/x-python",
   "name": "python",
   "nbconvert_exporter": "python",
   "pygments_lexer": "ipython3",
   "version": "3.9.15"
  }
 },
 "nbformat": 4,
 "nbformat_minor": 5
}
