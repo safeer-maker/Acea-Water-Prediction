{
 "cells": [
  {
   "cell_type": "markdown",
   "id": "c7982f14",
   "metadata": {},
   "source": [
    "# Initial declearations for all files"
   ]
  },
  {
   "cell_type": "code",
   "execution_count": 1,
   "id": "c7ebeac5",
   "metadata": {},
   "outputs": [],
   "source": [
    "import numpy as np\n",
    "import pandas as pd\n",
    "import matplotlib_inline as plot\n"
   ]
  },
  {
   "cell_type": "markdown",
   "id": "1068ba67",
   "metadata": {},
   "source": [
    "# Reading files from data files of aqua water reserverired "
   ]
  },
  {
   "cell_type": "code",
   "execution_count": 2,
   "id": "28f9a98e",
   "metadata": {},
   "outputs": [
    {
     "name": "stdout",
     "output_type": "stream",
     "text": [
      "C:\\Users\\Safeer\\My Drive\\Git_Project\\Water_prediction\\Acea-Water-Prediction\\acea-water-prediction-data\n"
     ]
    }
   ],
   "source": [
    "cd acea-water-prediction-data"
   ]
  },
  {
   "cell_type": "code",
   "execution_count": 3,
   "id": "c06678ab",
   "metadata": {},
   "outputs": [],
   "source": [
    "aq_auser_pd       = pd.read_csv('Aquifer_Auser.csv')\n",
    "aq_Ddganella_pd   = pd.read_csv('Aquifer_Doganella.csv')\n",
    "aq_luco_pd        = pd.read_csv('Aquifer_Luco.csv')\n",
    "aq_petrignano_pd  = pd.read_csv('Aquifer_Petrignano.csv')\n",
    "lake_bilancino_pd = pd.read_csv('Lake_Bilancino.csv')\n",
    "riv_arno_pd       = pd.read_csv('River_Arno.csv')\n",
    "spr_amiata_pd     = pd.read_csv('Water_Spring_Amiata.csv')\n",
    "spr_lupa_pd       = pd.read_csv('Water_Spring_Lupa.csv')\n",
    "spr_madonna_pd    = pd.read_csv('Water_Spring_Madonna_di_Canneto.csv')"
   ]
  },
  {
   "cell_type": "markdown",
   "id": "0ee1e7d1",
   "metadata": {},
   "source": [
    "# Data cleaning process"
   ]
  },
  {
   "cell_type": "code",
   "execution_count": 4,
   "id": "a9f67155",
   "metadata": {},
   "outputs": [
    {
     "name": "stdout",
     "output_type": "stream",
     "text": [
      "<class 'pandas.core.frame.DataFrame'>\n",
      "RangeIndex: 8154 entries, 0 to 8153\n",
      "Data columns (total 27 columns):\n",
      " #   Column                                   Non-Null Count  Dtype  \n",
      "---  ------                                   --------------  -----  \n",
      " 0   Date                                     8154 non-null   object \n",
      " 1   Rainfall_Gallicano                       5295 non-null   float64\n",
      " 2   Rainfall_Pontetetto                      5295 non-null   float64\n",
      " 3   Rainfall_Monte_Serra                     5289 non-null   float64\n",
      " 4   Rainfall_Orentano                        5295 non-null   float64\n",
      " 5   Rainfall_Borgo_a_Mozzano                 5295 non-null   float64\n",
      " 6   Rainfall_Piaggione                       4930 non-null   float64\n",
      " 7   Rainfall_Calavorno                       5295 non-null   float64\n",
      " 8   Rainfall_Croce_Arcana                    5295 non-null   float64\n",
      " 9   Rainfall_Tereglio_Coreglia_Antelminelli  5295 non-null   float64\n",
      " 10  Rainfall_Fabbriche_di_Vallico            5295 non-null   float64\n",
      " 11  Depth_to_Groundwater_LT2                 4802 non-null   float64\n",
      " 12  Depth_to_Groundwater_SAL                 4545 non-null   float64\n",
      " 13  Depth_to_Groundwater_PAG                 3807 non-null   float64\n",
      " 14  Depth_to_Groundwater_CoS                 4315 non-null   float64\n",
      " 15  Depth_to_Groundwater_DIEC                3270 non-null   float64\n",
      " 16  Temperature_Orentano                     8154 non-null   float64\n",
      " 17  Temperature_Monte_Serra                  8154 non-null   float64\n",
      " 18  Temperature_Ponte_a_Moriano              8154 non-null   float64\n",
      " 19  Temperature_Lucca_Orto_Botanico          8154 non-null   float64\n",
      " 20  Volume_POL                               5660 non-null   float64\n",
      " 21  Volume_CC1                               5660 non-null   float64\n",
      " 22  Volume_CC2                               5660 non-null   float64\n",
      " 23  Volume_CSA                               5660 non-null   float64\n",
      " 24  Volume_CSAL                              5660 non-null   float64\n",
      " 25  Hydrometry_Monte_S_Quirico               7241 non-null   float64\n",
      " 26  Hydrometry_Piaggione                     6119 non-null   float64\n",
      "dtypes: float64(26), object(1)\n",
      "memory usage: 1.7+ MB\n",
      "None\n"
     ]
    }
   ],
   "source": [
    "print (aq_auser_pd.info())\n",
    "#print (aq_auser_pd.describe())\n"
   ]
  },
  {
   "cell_type": "code",
   "execution_count": 5,
   "id": "3b5c8ec1",
   "metadata": {},
   "outputs": [
    {
     "name": "stdout",
     "output_type": "stream",
     "text": [
      "<class 'pandas.core.frame.DataFrame'>\n",
      "RangeIndex: 6026 entries, 0 to 6025\n",
      "Data columns (total 22 columns):\n",
      " #   Column                        Non-Null Count  Dtype  \n",
      "---  ------                        --------------  -----  \n",
      " 0   Date                          6026 non-null   object \n",
      " 1   Rainfall_Monteporzio          5399 non-null   float64\n",
      " 2   Rainfall_Velletri             5374 non-null   float64\n",
      " 3   Depth_to_Groundwater_Pozzo_1  2537 non-null   float64\n",
      " 4   Depth_to_Groundwater_Pozzo_2  2736 non-null   float64\n",
      " 5   Depth_to_Groundwater_Pozzo_3  2774 non-null   float64\n",
      " 6   Depth_to_Groundwater_Pozzo_4  2374 non-null   float64\n",
      " 7   Depth_to_Groundwater_Pozzo_5  2508 non-null   float64\n",
      " 8   Depth_to_Groundwater_Pozzo_6  2428 non-null   float64\n",
      " 9   Depth_to_Groundwater_Pozzo_7  2311 non-null   float64\n",
      " 10  Depth_to_Groundwater_Pozzo_8  2551 non-null   float64\n",
      " 11  Depth_to_Groundwater_Pozzo_9  2339 non-null   float64\n",
      " 12  Volume_Pozzo_1                1356 non-null   float64\n",
      " 13  Volume_Pozzo_2                1360 non-null   float64\n",
      " 14  Volume_Pozzo_3                1360 non-null   float64\n",
      " 15  Volume_Pozzo_4                1360 non-null   float64\n",
      " 16  Volume_Pozzo_5+6              1360 non-null   float64\n",
      " 17  Volume_Pozzo_7                1360 non-null   float64\n",
      " 18  Volume_Pozzo_8                1360 non-null   float64\n",
      " 19  Volume_Pozzo_9                1360 non-null   float64\n",
      " 20  Temperature_Monteporzio       4564 non-null   float64\n",
      " 21  Temperature_Velletri          4383 non-null   float64\n",
      "dtypes: float64(21), object(1)\n",
      "memory usage: 1.0+ MB\n",
      "None\n"
     ]
    }
   ],
   "source": [
    "print (aq_Ddganella_pd.info())\n",
    "#print (aq_Ddganella_pd.describe())\n"
   ]
  },
  {
   "cell_type": "code",
   "execution_count": 6,
   "id": "b306ffd3",
   "metadata": {},
   "outputs": [
    {
     "name": "stdout",
     "output_type": "stream",
     "text": [
      "<class 'pandas.core.frame.DataFrame'>\n",
      "RangeIndex: 7487 entries, 0 to 7486\n",
      "Data columns (total 22 columns):\n",
      " #   Column                               Non-Null Count  Dtype  \n",
      "---  ------                               --------------  -----  \n",
      " 0   Date                                 7487 non-null   object \n",
      " 1   Rainfall_Simignano                   6822 non-null   float64\n",
      " 2   Rainfall_Siena_Poggio_al_Vento       951 non-null    float64\n",
      " 3   Rainfall_Mensano                     1722 non-null   float64\n",
      " 4   Rainfall_Montalcinello               6525 non-null   float64\n",
      " 5   Rainfall_Monticiano_la_Pineta        2205 non-null   float64\n",
      " 6   Rainfall_Sovicille                   6657 non-null   float64\n",
      " 7   Rainfall_Ponte_Orgia                 1260 non-null   float64\n",
      " 8   Rainfall_Scorgiano                   3036 non-null   float64\n",
      " 9   Rainfall_Pentolina                   2116 non-null   float64\n",
      " 10  Rainfall_Monteroni_Arbia_Biena       3104 non-null   float64\n",
      " 11  Depth_to_Groundwater_Podere_Casetta  3346 non-null   float64\n",
      " 12  Depth_to_Groundwater_Pozzo_1         1012 non-null   float64\n",
      " 13  Depth_to_Groundwater_Pozzo_3         920 non-null    float64\n",
      " 14  Depth_to_Groundwater_Pozzo_4         969 non-null    float64\n",
      " 15  Temperature_Siena_Poggio_al_Vento    7487 non-null   float64\n",
      " 16  Temperature_Mensano                  7487 non-null   float64\n",
      " 17  Temperature_Pentolina                7487 non-null   float64\n",
      " 18  Temperature_Monteroni_Arbia_Biena    7487 non-null   float64\n",
      " 19  Volume_Pozzo_1                       2008 non-null   float64\n",
      " 20  Volume_Pozzo_3                       2008 non-null   float64\n",
      " 21  Volume_Pozzo_4                       2008 non-null   float64\n",
      "dtypes: float64(21), object(1)\n",
      "memory usage: 1.3+ MB\n",
      "None\n"
     ]
    }
   ],
   "source": [
    "print (aq_luco_pd.info())\n",
    "#print (aq_luco_pd.describe())\n"
   ]
  },
  {
   "cell_type": "code",
   "execution_count": 7,
   "id": "6df50796",
   "metadata": {},
   "outputs": [
    {
     "name": "stdout",
     "output_type": "stream",
     "text": [
      "<class 'pandas.core.frame.DataFrame'>\n",
      "RangeIndex: 5223 entries, 0 to 5222\n",
      "Data columns (total 8 columns):\n",
      " #   Column                                Non-Null Count  Dtype  \n",
      "---  ------                                --------------  -----  \n",
      " 0   Date                                  5223 non-null   object \n",
      " 1   Rainfall_Bastia_Umbra                 4199 non-null   float64\n",
      " 2   Depth_to_Groundwater_P24              5168 non-null   float64\n",
      " 3   Depth_to_Groundwater_P25              5184 non-null   float64\n",
      " 4   Temperature_Bastia_Umbra              4199 non-null   float64\n",
      " 5   Temperature_Petrignano                4199 non-null   float64\n",
      " 6   Volume_C10_Petrignano                 5025 non-null   float64\n",
      " 7   Hydrometry_Fiume_Chiascio_Petrignano  4199 non-null   float64\n",
      "dtypes: float64(7), object(1)\n",
      "memory usage: 326.6+ KB\n",
      "None\n"
     ]
    }
   ],
   "source": [
    "print (aq_petrignano_pd.info())\n",
    "#print (aq_petrignano_pd.describe())\n"
   ]
  },
  {
   "cell_type": "code",
   "execution_count": 8,
   "id": "c0c658f1",
   "metadata": {},
   "outputs": [
    {
     "name": "stdout",
     "output_type": "stream",
     "text": [
      "<class 'pandas.core.frame.DataFrame'>\n",
      "RangeIndex: 6603 entries, 0 to 6602\n",
      "Data columns (total 9 columns):\n",
      " #   Column                Non-Null Count  Dtype  \n",
      "---  ------                --------------  -----  \n",
      " 0   Date                  6603 non-null   object \n",
      " 1   Rainfall_S_Piero      6026 non-null   float64\n",
      " 2   Rainfall_Mangona      6026 non-null   float64\n",
      " 3   Rainfall_S_Agata      6026 non-null   float64\n",
      " 4   Rainfall_Cavallina    6026 non-null   float64\n",
      " 5   Rainfall_Le_Croci     6026 non-null   float64\n",
      " 6   Temperature_Le_Croci  6025 non-null   float64\n",
      " 7   Lake_Level            6603 non-null   float64\n",
      " 8   Flow_Rate             6582 non-null   float64\n",
      "dtypes: float64(8), object(1)\n",
      "memory usage: 464.4+ KB\n",
      "None\n"
     ]
    }
   ],
   "source": [
    "print (lake_bilancino_pd.info())\n",
    "#print (lake_bilancino_pd.describe())\n"
   ]
  },
  {
   "cell_type": "code",
   "execution_count": 9,
   "id": "bab38567",
   "metadata": {},
   "outputs": [
    {
     "name": "stdout",
     "output_type": "stream",
     "text": [
      "<class 'pandas.core.frame.DataFrame'>\n",
      "RangeIndex: 8217 entries, 0 to 8216\n",
      "Data columns (total 17 columns):\n",
      " #   Column                     Non-Null Count  Dtype  \n",
      "---  ------                     --------------  -----  \n",
      " 0   Date                       8217 non-null   object \n",
      " 1   Rainfall_Le_Croci          6026 non-null   float64\n",
      " 2   Rainfall_Cavallina         6026 non-null   float64\n",
      " 3   Rainfall_S_Agata           6026 non-null   float64\n",
      " 4   Rainfall_Mangona           6026 non-null   float64\n",
      " 5   Rainfall_S_Piero           6026 non-null   float64\n",
      " 6   Rainfall_Vernio            4283 non-null   float64\n",
      " 7   Rainfall_Stia              1283 non-null   float64\n",
      " 8   Rainfall_Consuma           1283 non-null   float64\n",
      " 9   Rainfall_Incisa            4568 non-null   float64\n",
      " 10  Rainfall_Montevarchi       1647 non-null   float64\n",
      " 11  Rainfall_S_Savino          1283 non-null   float64\n",
      " 12  Rainfall_Laterina          1283 non-null   float64\n",
      " 13  Rainfall_Bibbiena          2378 non-null   float64\n",
      " 14  Rainfall_Camaldoli         1283 non-null   float64\n",
      " 15  Temperature_Firenze        6192 non-null   float64\n",
      " 16  Hydrometry_Nave_di_Rosano  8169 non-null   float64\n",
      "dtypes: float64(16), object(1)\n",
      "memory usage: 1.1+ MB\n",
      "None\n"
     ]
    }
   ],
   "source": [
    "print (riv_arno_pd.info())\n",
    "#print (riv_arno_pd.describe())"
   ]
  },
  {
   "cell_type": "code",
   "execution_count": 10,
   "id": "2ba049dc",
   "metadata": {},
   "outputs": [
    {
     "name": "stdout",
     "output_type": "stream",
     "text": [
      "<class 'pandas.core.frame.DataFrame'>\n",
      "RangeIndex: 7487 entries, 0 to 7486\n",
      "Data columns (total 16 columns):\n",
      " #   Column                                 Non-Null Count  Dtype  \n",
      "---  ------                                 --------------  -----  \n",
      " 0   Date                                   7487 non-null   object \n",
      " 1   Rainfall_Castel_del_Piano              6291 non-null   float64\n",
      " 2   Rainfall_Abbadia_S_Salvatore           3586 non-null   float64\n",
      " 3   Rainfall_S_Fiora                       2633 non-null   float64\n",
      " 4   Rainfall_Laghetto_Verde                2865 non-null   float64\n",
      " 5   Rainfall_Vetta_Amiata                  2212 non-null   float64\n",
      " 6   Depth_to_Groundwater_S_Fiora_8         3569 non-null   float64\n",
      " 7   Depth_to_Groundwater_S_Fiora_11bis     3594 non-null   float64\n",
      " 8   Depth_to_Groundwater_David_Lazzaretti  3242 non-null   float64\n",
      " 9   Temperature_Abbadia_S_Salvatore        3583 non-null   float64\n",
      " 10  Temperature_S_Fiora                    7487 non-null   float64\n",
      " 11  Temperature_Laghetto_Verde             3604 non-null   float64\n",
      " 12  Flow_Rate_Bugnano                      2008 non-null   float64\n",
      " 13  Flow_Rate_Arbure                       2008 non-null   float64\n",
      " 14  Flow_Rate_Ermicciolo                   2008 non-null   float64\n",
      " 15  Flow_Rate_Galleria_Alta                2008 non-null   float64\n",
      "dtypes: float64(15), object(1)\n",
      "memory usage: 936.0+ KB\n",
      "None\n"
     ]
    }
   ],
   "source": [
    "print (spr_amiata_pd.info())\n",
    "#print (spr_amiata_pd.describe())\n"
   ]
  },
  {
   "cell_type": "code",
   "execution_count": 11,
   "id": "81da4bdd",
   "metadata": {},
   "outputs": [
    {
     "ename": "NameError",
     "evalue": "name 'spr_lupa_pd' is not defined",
     "output_type": "error",
     "traceback": [
      "\u001b[1;31m---------------------------------------------------------------------------\u001b[0m",
      "\u001b[1;31mNameError\u001b[0m                                 Traceback (most recent call last)",
      "Cell \u001b[1;32mIn [11], line 1\u001b[0m\n\u001b[1;32m----> 1\u001b[0m \u001b[38;5;28mprint\u001b[39m (\u001b[43mspr_lupa_pd\u001b[49m\u001b[38;5;241m.\u001b[39minfo())\n",
      "\u001b[1;31mNameError\u001b[0m: name 'spr_lupa_pd' is not defined"
     ]
    }
   ],
   "source": [
    "print (spr_lupa_pd.info())\n",
    "#print (spr_lupa_pd.describe())\n"
   ]
  },
  {
   "cell_type": "code",
   "execution_count": null,
   "id": "1c11b166",
   "metadata": {},
   "outputs": [],
   "source": [
    "print (spr_madonna_pd.info())\n",
    "#print (spr_madonna_pd.describe())\n"
   ]
  },
  {
   "cell_type": "code",
   "execution_count": null,
   "id": "8bfcb916",
   "metadata": {},
   "outputs": [],
   "source": [
    "aq_auser_pd.tail(15)\n"
   ]
  },
  {
   "cell_type": "code",
   "execution_count": null,
   "id": "43d525b0",
   "metadata": {},
   "outputs": [],
   "source": [
    "\n",
    "aq_auser_pd.plot.line(x = 'Date' , y = 'Rainfall_Gallicano' )"
   ]
  }
 ],
 "metadata": {
  "kernelspec": {
   "display_name": "Python 3 (ipykernel)",
   "language": "python",
   "name": "python3"
  },
  "language_info": {
   "codemirror_mode": {
    "name": "ipython",
    "version": 3
   },
   "file_extension": ".py",
   "mimetype": "text/x-python",
   "name": "python",
   "nbconvert_exporter": "python",
   "pygments_lexer": "ipython3",
   "version": "3.9.15"
  }
 },
 "nbformat": 4,
 "nbformat_minor": 5
}
